{
 "cells": [
  {
   "cell_type": "code",
   "execution_count": 7,
   "id": "ba609008",
   "metadata": {},
   "outputs": [
    {
     "ename": "SyntaxError",
     "evalue": "invalid syntax (2584309456.py, line 47)",
     "output_type": "error",
     "traceback": [
      "\u001b[0;36m  Cell \u001b[0;32mIn[7], line 47\u001b[0;36m\u001b[0m\n\u001b[0;31m    for filter:flat_directory in flat_directories_by_filter}\u001b[0m\n\u001b[0m              ^\u001b[0m\n\u001b[0;31mSyntaxError\u001b[0m\u001b[0;31m:\u001b[0m invalid syntax\n"
     ]
    }
   ],
   "source": [
    "import os\n",
    "import numpy as np\n",
    "from astropy import units as u\n",
    "from astropy.nddata import CCDData\n",
    "# from astropy.io import fits\n",
    "from ccdproc import ImageFileCollection\n",
    "# Combiner, combine, subtract_dark, flat_correct\n",
    "import matplotlib.pyplot as plt\n",
    "%matplotlib inline\n",
    "\n",
    "# filters\n",
    "\n",
    "filters = ['g', 'r']\n",
    "filter_full_names = [\"Sloan g'\", \"Sloan r'\"]\n",
    "\n",
    "# subdirectories -- relative to observation and calibration directories\n",
    "\n",
    "calibration_date = '2024-04-12'\n",
    "\n",
    "calibration_directory = os.path.join(os.path.expanduser('~'), '2024 Sessions', calibration_date)\n",
    "\n",
    "# the 30-second darks\n",
    "dark_directory = os.path.join(calibration_directory, 'dark')\n",
    "\n",
    "# the 1-second g and r flats\n",
    "flat_directories_by_filter = {filter:os.path.join(calibration_directory, 'flat', filter) for filter in filters}\n",
    "\n",
    "# the 1-second darks/biases\n",
    "bias_directory = os.path.join(calibration_directory, 'bias')\n",
    "\n",
    "# Trimmed image reader utility (needed because our images have four columns of NaNs)\n",
    "\n",
    "def delete_last_columns(arr, columns_to_delete):\n",
    "    column_count = np.shape(arr)[1]\n",
    "    del_arr = np.delete(arr, slice(column_count - columns_to_delete, column_count), 1)\n",
    "    return del_arr\n",
    "\n",
    "def trimmed_image_reader(file):\n",
    "    img = CCDData.read(file, unit=u.adu)\n",
    "    data = img.data\n",
    "    trimmed_data = delete_last_columns(data, 4)\n",
    "    img.data = trimmed_data\n",
    "    return img\n",
    "\n",
    "dark_files = ImageFileCollection(dark_directory).files_filtered(include_path='True')\n",
    "flat_files_by_filter = {filter:ImageFileCollection(flat_directory).files_filtered(include_path='True')\n",
    "               for filter:flat_directory in flat_directories_by_filter}\n",
    "bias_files = ImageFileCollection(bias_directory).files_filtered(include_path='True')\n",
    "\n",
    "darks = [trimmed_image_reader(file) for file in dark_files]\n",
    "flats_by_filter = {filter:[trimmed_image_reader(file) for file in flat_files] for (filter, flat_files) in flat_files_by_filter}\n",
    "biases = [trimmed_image_reader(file) for file in bias_files]\n",
    "\n",
    "# Combine darks, flats, and biases\n",
    "\n",
    "method = 'median'  # the method can be changed to 'average'\n",
    "\n",
    "master_dark = combine(darks, method=method)\n",
    "master_flat_by_filter = {filter:combine(flats, method=method) for (filter, flats) in flats_by_filter}\n",
    "master_bias = combine(biases, method=method)\n",
    "\n"
   ]
  },
  {
   "cell_type": "code",
   "execution_count": null,
   "id": "d7294f43",
   "metadata": {},
   "outputs": [],
   "source": []
  }
 ],
 "metadata": {
  "kernelspec": {
   "display_name": "Python 3 (ipykernel)",
   "language": "python",
   "name": "python3"
  },
  "language_info": {
   "codemirror_mode": {
    "name": "ipython",
    "version": 3
   },
   "file_extension": ".py",
   "mimetype": "text/x-python",
   "name": "python",
   "nbconvert_exporter": "python",
   "pygments_lexer": "ipython3",
   "version": "3.10.12"
  }
 },
 "nbformat": 4,
 "nbformat_minor": 5
}
