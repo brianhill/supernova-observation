{
 "cells": [
  {
   "cell_type": "markdown",
   "id": "3c91c95d",
   "metadata": {},
   "source": [
    "# ZTF24aahgqwk in NGC 3443\n",
    "\n",
    "### Observation Notes\n",
    "\n",
    "Typically a session has 60 30-second exposures in each of r' and g', but starting with\n",
    "2024-04-21, there are 120 of g', because g' images were getting fainter.\n",
    "\n",
    "[ZTF24aahgwk Observation Log](https://brianhill.github.io/supernova-observation/analyses/ZTF24aahgqwk/ujEAJrhgAQNd4bR%ZTF24aahgwk_observation_log.html)\n"
   ]
  },
  {
   "cell_type": "code",
   "execution_count": null,
   "id": "8d9d239c",
   "metadata": {},
   "outputs": [],
   "source": [
    "import os\n",
    "import numpy as np\n",
    "from astropy import units as u\n",
    "from astropy.nddata import CCDData\n",
    "# from astropy.io import fits\n",
    "from ccdproc import ImageFileCollection, combine, subtract_dark, flat_correct # Combiner\n",
    "import matplotlib.pyplot as plt\n",
    "%matplotlib inline\n",
    "\n",
    "# filters\n",
    "\n",
    "filters = ['g', 'r']\n",
    "filter_full_names = [\"Sloan g'\", \"Sloan r'\"]\n",
    "\n",
    "# exposure durations\n",
    "\n",
    "light_exposure = 30 * u.second\n",
    "flat_exposure = 0.1 * u.second\n",
    "dark_exposure = light_exposure  # our method presumes this equality\n",
    "bias_exposure = flat_exposure  # our method presumes this equality\n"
   ]
  },
  {
   "cell_type": "markdown",
   "id": "75c0228c",
   "metadata": {},
   "source": [
    "## Combine the Calibration Images into Masters\n",
    "\n",
    "### Calibration Images\n",
    "\n",
    "The calibration images are in ~/2024 Sessions/2024-04-12/. In turn, ~/2024 Sessions is\n",
    "actually a soft link to /Volumes/Astronomy Data/2024 Sessions/2024 Sessions."
   ]
  },
  {
   "cell_type": "code",
   "execution_count": null,
   "id": "d09f4257",
   "metadata": {},
   "outputs": [],
   "source": [
    "# calibration directory\n",
    "\n",
    "calibration_date = '2024-04-12'\n",
    "\n",
    "calibration_directory = os.path.join(os.path.expanduser('~'), '2024 Sessions', calibration_date)\n",
    "\n",
    "# subdirectory for the 30-second darks\n",
    "\n",
    "dark_directory = os.path.join(calibration_directory, 'dark')\n",
    "\n",
    "# subdirectories for the 0.1-second g and r flats\n",
    "\n",
    "flat_directories_by_filter = {filter:os.path.join(calibration_directory, 'flat', filter)\n",
    "                              for filter in filters}\n",
    "\n",
    "# subdirectory for the biases (TheSky Professional Edition may indicate that these are 0.1-second darks)\n",
    "\n",
    "bias_directory = os.path.join(calibration_directory, 'bias')\n",
    "\n",
    "# Trimmed image reader utility (needed because our images have a final row of zeros and four columns of NaNs)\n",
    "\n",
    "def delete_last_rows_and_columns(arr, rows_to_delete, columns_to_delete):\n",
    "    row_count = np.shape(arr)[0]\n",
    "    arr = np.delete(arr, slice(row_count - rows_to_delete, row_count), 0)\n",
    "    column_count = np.shape(arr)[1]\n",
    "    arr = np.delete(arr, slice(column_count - columns_to_delete, column_count), 1)\n",
    "    return arr\n",
    "\n",
    "def trimmed_image_reader(file):\n",
    "    img = CCDData.read(file, unit=u.adu)\n",
    "    data = img.data\n",
    "    trimmed_data = delete_last_rows_and_columns(data, 1, 4)\n",
    "    img.data = trimmed_data\n",
    "    return img\n",
    "\n",
    "# darks\n",
    "\n",
    "dark_files = ImageFileCollection(dark_directory).files_filtered(include_path='True')\n",
    "darks = [trimmed_image_reader(file) for file in dark_files]\n",
    "\n",
    "# flats by filter\n",
    "\n",
    "flat_files_by_filter = {filter:ImageFileCollection(flat_directory).files_filtered(include_path='True')\n",
    "                        for filter, flat_directory in flat_directories_by_filter.items()}\n",
    "flats_by_filter = {filter:[trimmed_image_reader(file) for file in flat_files]\n",
    "                   for filter, flat_files in flat_files_by_filter.items()}\n",
    "\n",
    "# biases\n",
    "\n",
    "bias_files = ImageFileCollection(bias_directory).files_filtered(include_path='True')\n",
    "biases = [trimmed_image_reader(file) for file in bias_files]\n",
    "\n",
    "# Combine darks, flats, and biases\n",
    "\n",
    "method = 'median'  # alternatively, the method can be 'average'\n",
    "\n",
    "master_dark = combine(darks, method=method)\n",
    "master_flats_by_filter = {filter:combine(flats, method=method)\n",
    "                         for filter, flats in flats_by_filter.items()}\n",
    "master_bias = combine(biases, method=method)\n",
    "\n",
    "# Perform dark subtraction of the master flats\n",
    "\n",
    "master_flats_subtracted_by_filter = {filter:subtract_dark(master_flat,\n",
    "                                                          master_bias,\n",
    "                                                          data_exposure=flat_exposure,\n",
    "                                                          dark_exposure=bias_exposure,\n",
    "                                                          scale=False)\n",
    "                                     for filter, master_flat in master_flats_by_filter.items()}\n"
   ]
  },
  {
   "cell_type": "markdown",
   "id": "76465a34",
   "metadata": {},
   "source": [
    "## Load, Calibrate, Align, and Stack Lights\n",
    "\n",
    "The lights we are currently examining are in ~/2024 Sessions/2024-04-17/.\n",
    "\n",
    "As a next step before adding the entire observation series, I will be adding\n",
    "\n",
    "2024-04-10, 2024-04-11, and 2024-04-13\n",
    "\n",
    "and\n",
    "\n",
    "2024-04-21 and 2024-04-22."
   ]
  },
  {
   "cell_type": "code",
   "execution_count": null,
   "id": "ba069d42",
   "metadata": {},
   "outputs": [],
   "source": [
    "observation_date = '2024-04-17'\n",
    "\n",
    "observation_directory = os.path.join(os.path.expanduser('~'), '2024 Sessions', observation_date)\n",
    "\n",
    "# subdirectories for the 30-second g and r lights\n",
    "\n",
    "light_directories_by_filter = {filter:os.path.join(observation_directory, filter) for filter in filters}\n",
    "\n",
    "# lights by filter\n",
    "\n",
    "light_files_by_filter = {filter:ImageFileCollection(light_directory).files_filtered(include_path='True')\n",
    "                         for filter, light_directory in light_directories_by_filter.items()}\n",
    "lights_by_filter = {filter:[trimmed_image_reader(file) for file in light_files]\n",
    "                    for filter, light_files in light_files_by_filter.items()}\n",
    "\n",
    "lights_subtracted_by_filter = {filter:[subtract_dark(light,\n",
    "                                                     master_dark,\n",
    "                                                     data_exposure=light_exposure,\n",
    "                                                     dark_exposure=dark_exposure,\n",
    "                                                     scale=False) for light in lights]\n",
    "                               for filter, lights in lights_by_filter.items()}\n",
    "\n",
    "# Perform flat division\n",
    "               \n",
    "lights_calibrated_by_filter = {filter:[flat_correct(light, master_flats_subtracted_by_filter[filter])\n",
    "                                       for light in lights]\n",
    "                               for filter, lights in lights_subtracted_by_filter.items()}\n"
   ]
  },
  {
   "cell_type": "code",
   "execution_count": null,
   "id": "7bfdf140",
   "metadata": {},
   "outputs": [],
   "source": [
    "# in this phase of the analysis, the aligned directories are written to not read from\n",
    "\n",
    "# first create the aligned directories\n",
    "\n",
    "aligned_directories_by_filter = {filter:os.path.join(light_directory, 'aligned')\n",
    "                                 for filter, light_directory in light_directories_by_filter.items()}\n",
    "\n",
    "for aligned_directory in aligned_directories_by_filter.values():\n",
    "    if not os.path.exists(aligned_directory):\n",
    "        os.makedirs(aligned_directory)"
   ]
  },
  {
   "cell_type": "code",
   "execution_count": null,
   "id": "94b79023",
   "metadata": {},
   "outputs": [],
   "source": [
    "master_flats_subtracted_by_filter['r']"
   ]
  },
  {
   "cell_type": "code",
   "execution_count": null,
   "id": "1220a2a3",
   "metadata": {},
   "outputs": [],
   "source": [
    "master_flats_by_filter['r']"
   ]
  },
  {
   "cell_type": "code",
   "execution_count": null,
   "id": "8867e93b",
   "metadata": {},
   "outputs": [],
   "source": [
    "master_bias"
   ]
  },
  {
   "cell_type": "code",
   "execution_count": null,
   "id": "14abd898",
   "metadata": {},
   "outputs": [],
   "source": []
  }
 ],
 "metadata": {
  "kernelspec": {
   "display_name": "Python 3 (ipykernel)",
   "language": "python",
   "name": "python3"
  },
  "language_info": {
   "codemirror_mode": {
    "name": "ipython",
    "version": 3
   },
   "file_extension": ".py",
   "mimetype": "text/x-python",
   "name": "python",
   "nbconvert_exporter": "python",
   "pygments_lexer": "ipython3",
   "version": "3.10.12"
  }
 },
 "nbformat": 4,
 "nbformat_minor": 5
}
