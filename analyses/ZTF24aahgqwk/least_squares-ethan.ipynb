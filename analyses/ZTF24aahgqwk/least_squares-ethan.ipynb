{
 "cells": [
  {
   "cell_type": "code",
   "execution_count": 33,
   "id": "786b1e20-d0e8-4728-b32a-9f47f46b02d3",
   "metadata": {
    "tags": []
   },
   "outputs": [
    {
     "name": "stdout",
     "output_type": "stream",
     "text": [
      "[ -0.23391167 200.52744479]\n"
     ]
    },
    {
     "data": {
      "text/plain": [
       "array([ -0.23391167, 200.52744479])"
      ]
     },
     "execution_count": 33,
     "metadata": {},
     "output_type": "execute_result"
    }
   ],
   "source": [
    "import numpy as np\n",
    "from scipy.optimize import least_squares\n",
    "\n",
    "some_data = [\n",
    " (24, 196),\n",
    " (26, 194),\n",
    " (28, 195),\n",
    " (29, 194),\n",
    " (31, 192),\n",
    " (32, 191),\n",
    " (34, 193),\n",
    " (36, 192),\n",
    " (38, 191),\n",
    " (40, 192),\n",
    " (41, 193),\n",
    " (42, 190),\n",
    " (43, 190)\n",
    "]\n",
    "\n",
    "\n",
    "\n",
    "def curve_function(parameter_vector):\n",
    "    parameter_a = parameter_vector[0]\n",
    "    parameter_b = parameter_vector[1]\n",
    "    i=0\n",
    "    errors = np.zeros(len(some_data))\n",
    "    for point in some_data:\n",
    "        errors[i]=point[1]-parameter_b-point[0]*parameter_a\n",
    "        i+=1\n",
    "    return np.array(errors)\n",
    "    \n",
    "\n",
    "print(least_squares(curve_function, np.zeros(2)).x)\n",
    "                       \n",
    "def linear_regression(vectory, vectorx):\n",
    "    x=0\n",
    "    y=0\n",
    "    xy=0\n",
    "    xx=0\n",
    "    for i in range(len(vectorx)):\n",
    "        x+=vectorx[i]\n",
    "        y+=vectory[i]\n",
    "        xy+=vectorx[i]*vectory[i]\n",
    "        xx+=vectorx[i]**2\n",
    "    output = np.zeros(2)\n",
    "    output[0]=(len(vectorx)*xy-x*y)/(len(vectorx)*xx-x**2)\n",
    "    output[1]=(y*xx-x*xy)/(len(vectorx)*xx-x*x)\n",
    "    return output\n",
    "\n",
    "y_values = np.zeros(len(some_data))\n",
    "x_values = np.zeros(len(some_data))\n",
    "i=0\n",
    "for point in some_data:\n",
    "    y_values[i]=point[1]\n",
    "    x_values[i]=point[0]\n",
    "    i+=1\n",
    "\n",
    "linear_regression(y_values,x_values)"
   ]
  },
  {
   "cell_type": "code",
   "execution_count": null,
   "id": "9402a186-c893-484a-929e-630cf7fac749",
   "metadata": {},
   "outputs": [],
   "source": []
  }
 ],
 "metadata": {
  "kernelspec": {
   "display_name": "Python 3 (ipykernel)",
   "language": "python",
   "name": "python3"
  },
  "language_info": {
   "codemirror_mode": {
    "name": "ipython",
    "version": 3
   },
   "file_extension": ".py",
   "mimetype": "text/x-python",
   "name": "python",
   "nbconvert_exporter": "python",
   "pygments_lexer": "ipython3",
   "version": "3.11.5"
  }
 },
 "nbformat": 4,
 "nbformat_minor": 5
}
