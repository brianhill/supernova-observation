{
 "cells": [
  {
   "cell_type": "code",
   "execution_count": 1,
   "id": "2672632b",
   "metadata": {},
   "outputs": [],
   "source": [
    "import os\n",
    "import numpy as np\n",
    "from scipy.optimize import least_squares\n",
    "import matplotlib.pyplot as plt\n",
    "%matplotlib inline\n",
    "from math import log, exp, pi\n",
    "\n",
    "# THIS COMMENT IS THE LONGEST A LINE CAN BE AND STILL RENDER COMPLETELY WHEN PRINTING IN LANDSCAPE MODE.\n",
    "# THIS COMMENT IS 72 CHARACTERS WITHOUT COUNTING THE NEWLINE AT THE END.\n",
    "\n",
    "# This notebook needs to be able to find the stacked images.\n",
    "\n",
    "# use named tuples to improve readability\n",
    "\n",
    "from collections import namedtuple\n",
    "\n",
    "Point = namedtuple('Point', 'x y')\n",
    "Extent = namedtuple('Extent', 'width height')\n",
    "Rectangle = namedtuple('Rectangle', 'center extent')\n"
   ]
  },
  {
   "cell_type": "markdown",
   "id": "6edb34fe",
   "metadata": {},
   "source": [
    "## Code for Least Squares Fit"
   ]
  },
  {
   "cell_type": "code",
   "execution_count": 2,
   "id": "e4faddb1",
   "metadata": {},
   "outputs": [],
   "source": [
    "def sigma_squared_for_fwhm(fwhm):\n",
    "    return fwhm**2 / (8 * log(2))\n",
    "\n",
    "def make_gaussian(fwhm):\n",
    "    sigma_squared = sigma_squared_for_fwhm(fwhm)\n",
    "    normalization = 1 / (2 * pi * sigma_squared)\n",
    "    def gaussian(x, y):\n",
    "        return normalization * exp(-(x**2 + y**2) / (2 * sigma_squared))\n",
    "    return gaussian\n",
    "\n",
    "# The following mess of integers defines the parameter positions in the parameter vector\n",
    "PINDEX_TARGET_BACKGROUND = 0  # NB: THE TARGET BACKGROUND IS IN ADDITION TO THE GENERAL_BACKGROUND\n",
    "PINDEX_GENERAL_BACKGROUND = 1\n",
    "PINDEX_FWHM = 2\n",
    "POFFSET_BASE = 3  # the number of indices above -- will grow if we further model target background\n",
    "POFFSET_MULTIPLE = 3  # the number of indices below -- not expected to change\n",
    "POFFSETINDEX_FLUX = 0\n",
    "POFFSETINDEX_CENTER_RELATIVE_X = 1  # NB: THIS IS RELATIVE TO THE CENTER OF THE EXTENT\n",
    "POFFSETINDEX_CENTER_RELATIVE_Y = 2  # NB: THIS IS RELATIVE TO THE CENTER OF THE EXTENT\n",
    "\n",
    "def roi_model_for_parameters(extent, k, centers, parameters):\n",
    "    fwhm = parameters[PINDEX_FWHM]\n",
    "    target_background = parameters[PINDEX_TARGET_BACKGROUND]\n",
    "    general_background = parameters[PINDEX_GENERAL_BACKGROUND]\n",
    "    base_index_k = POFFSET_BASE + k * POFFSET_MULTIPLE\n",
    "    flux = parameters[base_index_k + POFFSETINDEX_FLUX]\n",
    "    center_relative_x = parameters[base_index_k + POFFSETINDEX_CENTER_RELATIVE_X]\n",
    "    center_relative_y = parameters[base_index_k + POFFSETINDEX_CENTER_RELATIVE_Y]\n",
    "    background = target_background + general_background if k == 0 else general_background\n",
    "    model_roi_data = np.full((extent.height, extent.width), background) # height before width\n",
    "    gaussian = make_gaussian(fwhm)\n",
    "    for j in range(extent.height):\n",
    "        for i in range(extent.width):\n",
    "            model_roi_data[j, i] += flux * gaussian(\n",
    "                i - extent.width // 2 - center_relative_x,\n",
    "                j - extent.height // 2 - center_relative_y\n",
    "            )\n",
    "    return model_roi_data\n",
    "\n",
    "def view_extent_of_data(image_data, center, extent):\n",
    "    left = center.x - extent.width // 2\n",
    "    right = left + extent.width\n",
    "    top = center.y - extent.height // 2\n",
    "    bottom = top + extent.height\n",
    "    view = image_data[top:bottom, left:right]\n",
    "    return view\n",
    "\n",
    "def make_image_data(width, height, centers, extent, parameters):\n",
    "    general_background = parameters[PINDEX_GENERAL_BACKGROUND]\n",
    "    image_data = np.full((height, width), general_background) # height before width in the array shape\n",
    "    for k in range(len(centers)):\n",
    "        model_roi_data = roi_model_for_parameters(extent, k, centers, parameters)\n",
    "        view = view_extent_of_data(image_data, centers[k], extent)\n",
    "        for j in range(extent.height):\n",
    "            for i in range(extent.width):\n",
    "                view[j, i] = model_roi_data[j, i]  ## PROBLEM PROBLEM PROBLEM\n",
    "    return image_data\n",
    "\n",
    "def roi_residuals(image_data, k, centers, extent, parameters):\n",
    "    roi_view = view_extent_of_data(image_data, centers[k], extent)\n",
    "    roi_model = roi_model_for_parameters(extent, k, centers, parameters)\n",
    "    return roi_view - roi_model\n",
    "\n",
    "def make_residuals_function(image_data, centers, extent):\n",
    "    def residuals_function(parameters):\n",
    "        all_roi_residuals = [\n",
    "            roi_residuals(image_data, k, centers, extent, parameters)\n",
    "            for k, center in enumerate(centers)\n",
    "        ]\n",
    "        return np.concatenate(all_roi_residuals).ravel()\n",
    "    \n",
    "    return residuals_function\n"
   ]
  },
  {
   "cell_type": "markdown",
   "id": "6ca3d594",
   "metadata": {},
   "source": [
    "## Testing\n",
    "\n",
    "We test the least squares fitting code above with generated data.\n",
    "\n",
    "### Generate the Data"
   ]
  },
  {
   "cell_type": "code",
   "execution_count": 3,
   "id": "eaefc507",
   "metadata": {},
   "outputs": [],
   "source": [
    "# The following are in all caps and prefixed TEST to avoid collisions with the real data.\n",
    "\n",
    "TEST_DATA_WIDTH = 4\n",
    "TEST_DATA_HEIGHT = 3\n",
    "\n",
    "TEST_EXTENT_HALF_WIDTH = 1\n",
    "TEST_EXTENT_WIDTH = 2 * TEST_EXTENT_HALF_WIDTH + 1\n",
    "TEST_EXTENT_HEIGHT = TEST_EXTENT_WIDTH\n",
    "TEST_EXTENT = Extent(TEST_EXTENT_WIDTH, TEST_EXTENT_HEIGHT)\n",
    "\n",
    "TEST_CENTERS = [\n",
    "    Point(1, 1), # test target\n",
    "    # Point(4, 2), # test reference\n",
    "]\n",
    "\n",
    "TEST_CENTER_OFFSETS = [\n",
    "    Point(-0.3, -0.3), # test target\n",
    "    # Point(0, 0.3), # test reference\n",
    "]\n",
    "\n",
    "TEST_TARGET_BACKGROUND = 5.0\n",
    "TEST_GENERAL_BACKGROUND = 3.0\n",
    "\n",
    "TEST_FWHM = 2.0\n",
    "\n",
    "TEST_FLUXES = [\n",
    "    50.0,\n",
    "    # 1000.0\n",
    "]\n",
    "\n",
    "TEST_PARAMETERS = [\n",
    "    TEST_TARGET_BACKGROUND,\n",
    "    TEST_GENERAL_BACKGROUND,\n",
    "    TEST_FWHM\n",
    "]\n",
    "\n",
    "for k in range(len(TEST_CENTERS)):\n",
    "    TEST_PARAMETERS.append(TEST_FLUXES[k])\n",
    "    TEST_PARAMETERS.append(TEST_CENTER_OFFSETS[k].x)\n",
    "    TEST_PARAMETERS.append(TEST_CENTER_OFFSETS[k].y)\n",
    "\n",
    "\n",
    "TEST_IMAGE_DATA = make_image_data(\n",
    "    TEST_DATA_WIDTH, TEST_DATA_HEIGHT,\n",
    "    TEST_CENTERS,\n",
    "    TEST_EXTENT,\n",
    "    TEST_PARAMETERS\n",
    ")\n"
   ]
  },
  {
   "cell_type": "markdown",
   "id": "e01345aa",
   "metadata": {},
   "source": [
    "### Display the Test Image\n",
    "\n",
    "Near, but exactly at (20, 40), we should see a target with flux 250.0.\n",
    "Around it the total backround is 5.0 + 3.0.\n",
    "\n",
    "Near, but not exactly at (50, 150), we should see a reference star with flux 1000.0.\n",
    "Around it the background is 3.0.\n",
    "\n",
    "The FWHM should appear to be about 9.0."
   ]
  },
  {
   "cell_type": "code",
   "execution_count": 4,
   "id": "48edce0a",
   "metadata": {},
   "outputs": [
    {
     "data": {
      "image/png": "[encoded data removed]",
      "text/plain": [
       "<Figure size 800x800 with 1 Axes>"
      ]
     },
     "metadata": {},
     "output_type": "display_data"
    }
   ],
   "source": [
    "fig, axes = plt.subplots(1, 1, figsize=(8, 8))\n",
    "\n",
    "axes.imshow(TEST_IMAGE_DATA, cmap='gray')\n",
    "axes.set_title(\"Test Image\")\n",
    "\n",
    "plt.tight_layout()\n",
    "plt.show()\n"
   ]
  },
  {
   "cell_type": "markdown",
   "id": "1bde17f3",
   "metadata": {},
   "source": [
    "### Fit the Test Image\n",
    "\n",
    "The routine was doing perfectly with the test data, but I have introduced a bug!!\n",
    "\n",
    "TODO: We could put Poisson noise into the test data and see how robust the routine is."
   ]
  },
  {
   "cell_type": "code",
   "execution_count": 5,
   "id": "110f8819",
   "metadata": {},
   "outputs": [
    {
     "data": {
      "text/plain": [
       "array([ 7.06333423,  8.65924844,  3.90489159,  8.65924844, 10.7571826 ,\n",
       "        4.49165839,  3.90489159,  4.49165839,  2.53009958])"
      ]
     },
     "execution_count": 5,
     "metadata": {},
     "output_type": "execute_result"
    }
   ],
   "source": [
    "# The following are in all caps and prefixed TEST to avoid collisions with the real fit.\n",
    "\n",
    "TEST_INITIAL_GUESS_FOR_TARGET_BACKGROUND = 4.0\n",
    "TEST_INITIAL_GUESS_FOR_GENERAL_BACKGROUND = 2.0\n",
    "TEST_INITIAL_GUESS_FOR_FWHM = 3.0\n",
    "\n",
    "TEST_INITIAL_PARAMETER_VECTOR = [\n",
    "    TEST_INITIAL_GUESS_FOR_TARGET_BACKGROUND,\n",
    "    TEST_INITIAL_GUESS_FOR_GENERAL_BACKGROUND,\n",
    "    TEST_INITIAL_GUESS_FOR_FWHM\n",
    "]\n",
    "\n",
    "for _ in range(len(TEST_CENTERS)):\n",
    "    TEST_INITIAL_PARAMETER_VECTOR.append(10.0)  # Initial guess for flux\n",
    "    TEST_INITIAL_PARAMETER_VECTOR.append(0.0)   # Initial guess for center_relative_x\n",
    "    TEST_INITIAL_PARAMETER_VECTOR.append(0.0)   # Initial guess for center_relative_y\n",
    "    \n",
    "TEST_RESIDUALS_FUNCTION = make_residuals_function(TEST_IMAGE_DATA, TEST_CENTERS, TEST_EXTENT)\n",
    "\n",
    "TEST_RESIDUALS_FUNCTION(TEST_INITIAL_PARAMETER_VECTOR)"
   ]
  },
  {
   "cell_type": "code",
   "execution_count": 6,
   "id": "b7ac3136",
   "metadata": {
    "scrolled": false
   },
   "outputs": [
    {
     "data": {
      "text/plain": [
       "array([ 7.35797209,  5.35797209,  0.67853813, 12.29972733,  9.59374605,\n",
       "        9.59374603])"
      ]
     },
     "execution_count": 6,
     "metadata": {},
     "output_type": "execute_result"
    }
   ],
   "source": [
    "TEST_RESULT = least_squares(TEST_RESIDUALS_FUNCTION, np.array(TEST_INITIAL_PARAMETER_VECTOR))\n",
    "\n",
    "TEST_RESULT.x\n",
    "\n",
    "# TEST_IMAGE_DATA[140:161, 40:61]"
   ]
  },
  {
   "cell_type": "code",
   "execution_count": null,
   "id": "515c1d0e",
   "metadata": {},
   "outputs": [],
   "source": []
  }
 ],
 "metadata": {
  "kernelspec": {
   "display_name": "Python 3 (ipykernel)",
   "language": "python",
   "name": "python3"
  },
  "language_info": {
   "codemirror_mode": {
    "name": "ipython",
    "version": 3
   },
   "file_extension": ".py",
   "mimetype": "text/x-python",
   "name": "python",
   "nbconvert_exporter": "python",
   "pygments_lexer": "ipython3",
   "version": "3.10.12"
  }
 },
 "nbformat": 4,
 "nbformat_minor": 5
}
