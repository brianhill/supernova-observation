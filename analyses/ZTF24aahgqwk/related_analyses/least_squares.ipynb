{
 "cells": [
  {
   "cell_type": "markdown",
   "id": "0fb1cf13",
   "metadata": {},
   "source": [
    "# Linear Regression and Least Squares\n",
    "\n",
    "## Method\n",
    "\n",
    "We will be using least-squares minimization to fit the image data.\n",
    "\n",
    "We could write the code from scratch, but it is tricky to find the minimum of a function\n",
    "in a high-dimensional space, so it is better to use well-tested code. The scipy library\n",
    "has an algorithm for fitting.\n",
    "\n",
    "The first thing we want to do is learn to to use their algorithm. This might seem easy, but\n",
    "remember, that the data has to be passed in, the parameters have to be passed in, and the \n",
    "residuals have to be computed, and in order to do this completely generally, abstractions\n",
    "have to be introduced.\n",
    "\n",
    "More specifically, the least_squares function\n",
    "takes the function to be minimized as its first argument. It is easiest to see this in an example.\n",
    "\n",
    "## Example\n",
    "\n",
    "The authors of [scipy.optimize.least_squares](https://docs.scipy.org/doc/scipy/reference/generated/scipy.optimize.least_squares.html) give\n",
    "an example uing the [Rosenbrock function](https://en.wikipedia.org/wiki/Rosenbrock_function)\n",
    "which is considered a challenging test for least squares fitting.\n",
    "\n",
    "In their example, there is no data. Just two parameters are given, x\\[0\\] and x\\[1\\], and the\n",
    "function that the user supplies produces two residuals."
   ]
  },
  {
   "cell_type": "code",
   "execution_count": 1,
   "id": "869520f2",
   "metadata": {},
   "outputs": [
    {
     "name": "stdout",
     "output_type": "stream",
     "text": [
      "[1. 1.]\n"
     ]
    }
   ],
   "source": [
    "import numpy as np\n",
    "from scipy.optimize import least_squares\n",
    "\n",
    "def the_rosenbrock_function(parameter_vector, data=None):\n",
    "    parameter_a = parameter_vector[0]\n",
    "    parameter_b = parameter_vector[1]\n",
    "    residual_1 = parameter_b - parameter_a**2\n",
    "    residual_2 = 1 - parameter_a\n",
    "    residual_vector = [residual_1, residual_2]\n",
    "    return np.array(residual_vector)\n",
    "\n",
    "initial_guess_for_parameter_a = 2\n",
    "initial_guess_for_parameter_b = 2\n",
    "\n",
    "initial_parameter_vector = [initial_guess_for_parameter_a, initial_guess_for_parameter_b]\n",
    "\n",
    "\n",
    "result = least_squares(the_rosenbrock_function, np.array(initial_parameter_vector))\n",
    "\n",
    "print(result.x)"
   ]
  },
  {
   "cell_type": "markdown",
   "id": "e6f1d027",
   "metadata": {},
   "source": [
    "## Problem 1\n",
    "\n",
    "Note that in the above example, the data argument wasn't used, and of course in our imaging problem\n",
    "data is essential. So let's do a problem that has some data.\n",
    "\n",
    "Below is some data consisting of an array of 13 ordered pairs. You can think of these ordered pairs\n",
    "as x-y values, and we want to find the best values for the parameters m and b with y = m * x + b.\n",
    "\n",
    "Write a function that produces the residuals, and then use scipy.optimize.least_squares to find the best fit.\n"
   ]
  },
  {
   "cell_type": "code",
   "execution_count": 2,
   "id": "19faa97e",
   "metadata": {},
   "outputs": [
    {
     "name": "stdout",
     "output_type": "stream",
     "text": [
      "[ -0.23391167 200.52744479]\n"
     ]
    }
   ],
   "source": [
    "# The data\n",
    "\n",
    "some_data = [\n",
    "    (24, 196),\n",
    "    (26, 194),\n",
    "    (28, 195),\n",
    "    (29, 194),\n",
    "    (31, 192),\n",
    "    (32, 191),\n",
    "    (34, 193),\n",
    "    (36, 192),\n",
    "    (38, 191),\n",
    "    (40, 192),\n",
    "    (41, 193),\n",
    "    (42, 190),\n",
    "    (43, 190)\n",
    "]\n",
    "\n",
    "# My solution\n",
    "\n",
    "def make_my_function(data):\n",
    "    def my_function(parameter_vector):\n",
    "        m = parameter_vector[0]\n",
    "        b = parameter_vector[1]\n",
    "        return np.array([item[1] - (m * item[0] + b) for item in data])\n",
    "    \n",
    "    return my_function\n",
    "\n",
    "initial_guess_for_m = 0.0\n",
    "initial_guess_for_b = 0.0\n",
    "\n",
    "initial_parameter_vector = [initial_guess_for_m, initial_guess_for_b]\n",
    "\n",
    "my_function = make_my_function(some_data)\n",
    "\n",
    "result = least_squares(my_function, np.array(initial_parameter_vector))\n",
    "\n",
    "print(result.x)"
   ]
  },
  {
   "cell_type": "markdown",
   "id": "5aab2660",
   "metadata": {},
   "source": [
    "## Problem 2\n",
    "\n",
    "The above problem was a linear regression problem. We know how to solve it exactly,\n",
    "so we can just compute the exact values of m and b from the data without\n",
    "using scipy.optimize.least_squares.\n",
    "\n",
    "It might be helpful to read a [refresher on the exact solution](https://brianhill.github.io/supernova-observation/analyses/ZTF24aahgqwk/related_analyses/LeastSquaresFun.nb.pdf) before proceeding."
   ]
  },
  {
   "cell_type": "code",
   "execution_count": 3,
   "id": "a10160d2",
   "metadata": {},
   "outputs": [
    {
     "name": "stdout",
     "output_type": "stream",
     "text": [
      "[-0.23391167192429022, -200.5274447949527]\n"
     ]
    }
   ],
   "source": [
    "# My solution\n",
    "\n",
    "# The least-squares minimization quickly yields two equations in the two unknowns m and b.\n",
    "# The two equations are:\n",
    "#\n",
    "# sigma_xy = m * sigma_xx + b sigma_x\n",
    "# sigma_y = m * sigma_x + b * sigma_1\n",
    "#\n",
    "# The various sigmas are defined by:\n",
    "\n",
    "sigma_xx = sum([item[0]**2 for item in some_data])\n",
    "sigma_xy = sum([item[0] * item[1] for item in some_data])\n",
    "sigma_x = sum([item[0] for item in some_data])\n",
    "sigma_y = sum([item[1] for item in some_data])\n",
    "sigma_1 = len(some_data)\n",
    "\n",
    "# The two unknowns are given by:\n",
    "\n",
    "determinant = sigma_1 * sigma_xx - sigma_x**2\n",
    "\n",
    "m = (sigma_1 * sigma_xy - sigma_x * sigma_y) / determinant\n",
    "b = (sigma_x * sigma_xy - sigma_xx * sigma_y) / determinant\n",
    "\n",
    "print([m, b])"
   ]
  },
  {
   "cell_type": "markdown",
   "id": "fdb3dd1b",
   "metadata": {},
   "source": [
    "## Problem 3\n",
    "\n",
    "Compare and reconcile the answers to Problems 1 and 2.\n",
    "\n",
    "### My Solution\n",
    "\n",
    "Well, they compare perfectly, to all decimal places shown in Problem 1, so there is no reconciling to do."
   ]
  }
 ],
 "metadata": {
  "kernelspec": {
   "display_name": "Python 3 (ipykernel)",
   "language": "python",
   "name": "python3"
  },
  "language_info": {
   "codemirror_mode": {
    "name": "ipython",
    "version": 3
   },
   "file_extension": ".py",
   "mimetype": "text/x-python",
   "name": "python",
   "nbconvert_exporter": "python",
   "pygments_lexer": "ipython3",
   "version": "3.10.12"
  }
 },
 "nbformat": 4,
 "nbformat_minor": 5
}
