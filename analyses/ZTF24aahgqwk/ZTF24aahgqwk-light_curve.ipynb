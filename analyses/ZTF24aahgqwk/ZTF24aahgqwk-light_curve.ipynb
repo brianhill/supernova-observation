{
 "cells": [
  {
   "cell_type": "markdown",
   "id": "0fb1cf13",
   "metadata": {},
   "source": [
    "# ZTF24aahgqwk in NGC 3443\n",
    "\n",
    "## Light Curve Notebook\n",
    "\n",
    "This notebook begins with the 36 stacked images produced by our [Calibration Notebook](https://brianhill.github.io/supernova-observation/analyses/ZTF24aahgqwk/ZTF24aahgqwk-calibration.pdf), and produces a light curve, consisting of 18 Sloan r' and 18 Sloan g' data points.\n"
   ]
  },
  {
   "cell_type": "code",
   "execution_count": null,
   "id": "2672632b",
   "metadata": {},
   "outputs": [],
   "source": [
    "import os\n",
    "\n",
    "# THIS COMMENT IS THE LONGEST A LINE CAN BE AND STILL RENDER COMPLETELY WHEN PRINTING IN LANDSCAPE MODE.\n",
    "\n",
    "# This notebook needs to be able to find the stacked images.\n",
    "\n",
    "home_directory = os.path.expanduser('~')\n",
    "supernova_project_directory = os.path.join(home_directory, 'Projects', 'supernova-observation')\n",
    "stacked_directory = os.path.join(supernova_project_directory, 'analyses', 'ZTF24aahgqwk', 'stacked')\n",
    "\n",
    "# The 36 images are in the stacked directory. There were 18 observation sessions with 2 filters each.\n",
    "\n",
    "# filters\n",
    "\n",
    "filters = ['r', 'g']\n",
    "filter_full_names = [\"Sloan r'\", \"Sloan g'\"]\n",
    "\n",
    "# observation dates (UTC)\n",
    "\n",
    "observation_dates = [\n",
    "    '2024-03-20',\n",
    "    '2024-03-21',\n",
    "    '2024-03-23',\n",
    "    '2024-03-27',\n",
    "    '2024-04-02',\n",
    "    '2024-04-03',\n",
    "    '2024-04-04',\n",
    "    '2024-04-06',\n",
    "    '2024-04-10',\n",
    "    '2024-04-11',\n",
    "    '2024-04-13',\n",
    "    '2024-04-17',\n",
    "    '2024-04-21',\n",
    "    '2024-04-22',\n",
    "    '2024-04-23',\n",
    "    '2024-04-29',\n",
    "    '2024-04-30',\n",
    "    '2024-05-02'\n",
    "]\n"
   ]
  },
  {
   "cell_type": "markdown",
   "id": "8e3b4b4b",
   "metadata": {},
   "source": [
    "## Method\n",
    "\n",
    "We will be using least-squares minimization to fit the image data.\n",
    "\n",
    "We could write the code from scratch, but it is tricky to find the minimum of a function\n",
    "in a high-dimensional space, so it is better to use well-tested code. The scipy library\n",
    "has an algorithm for fitting.\n",
    "\n",
    "The first thing we want to do is learn to to use their algorithm. This might seem easy, but\n",
    "remember, that the data has to be passed in, the parameters have to be passed in, and the \n",
    "residuals have to be computed, and in order to do this completely generally, abstractions\n",
    "have to be introduced.\n",
    "\n",
    "The authors of [scipy.optimize.least_squares](https://docs.scipy.org/doc/scipy/reference/generated/scipy.optimize.least_squares.html) give\n",
    "an example uing the [Rosenbrock function](https://en.wikipedia.org/wiki/Rosenbrock_function)\n",
    "which is considered a challenging test for least squares fitting.\n",
    "\n",
    "In this example, there is no data. Just two parameters are given, x\\[0\\] and x\\[1\\], and the\n",
    "function that the user supplies produces two residuals."
   ]
  },
  {
   "cell_type": "code",
   "execution_count": null,
   "id": "869520f2",
   "metadata": {},
   "outputs": [],
   "source": [
    "import numpy as np\n",
    "from scipy.optimize import least_squares\n",
    "\n",
    "def the_rosenbrock_function(parameter_vector, data=None):\n",
    "    parameter_a = parameter_vector[0]\n",
    "    parameter_b = parameter_vector[1]\n",
    "    residual_1 = parameter_b - parameter_a**2\n",
    "    residual_2 = 1 - parameter_a\n",
    "    residual_vector = [residual_1, residual_2]\n",
    "    return np.array(residual_vector)\n",
    "\n",
    "initial_guess_for_parameter_a = 2\n",
    "initial_guess_for_parameter_b = 2\n",
    "\n",
    "initial_parameter_vector = [initial_guess_for_parameter_a, initial_guess_for_parameter_b]\n",
    "\n",
    "\n",
    "result = least_squares(the_rosenbrock_function, np.array(initial_parameter_vector))\n",
    "\n",
    "print(result.x)"
   ]
  },
  {
   "cell_type": "code",
   "execution_count": null,
   "id": "19faa97e",
   "metadata": {},
   "outputs": [],
   "source": [
    "## Problem 1\n",
    "\n",
    "# Note that in the above example, the data argument wasn't used.\n",
    "\n",
    "# Here is some data consisting of an array of 13 ordered pairs. You can think of these ordered pairs\n",
    "# as x-y values, and we want to find the best values for the parameters m and b with y = m * x + b.\n",
    "\n",
    "some_data = [\n",
    "    (24, 196),\n",
    "    (26, 194),\n",
    "    (28, 195),\n",
    "    (29, 194),\n",
    "    (31, 192),\n",
    "    (32, 191),\n",
    "    (34, 193),\n",
    "    (36, 192),\n",
    "    (38, 191),\n",
    "    (40, 192),\n",
    "    (41, 193),\n",
    "    (42, 190),\n",
    "    (43, 190)\n",
    "]\n",
    "\n",
    "# Use scipy.optimize.least_squares to solve this problem"
   ]
  },
  {
   "cell_type": "code",
   "execution_count": null,
   "id": "5c255920",
   "metadata": {},
   "outputs": [],
   "source": [
    "## Problem 2\n",
    "\n",
    "# This is a linear regression problem. You know how to solve it exactly. Write the code that computes\n",
    "# the exact valuues of m and b from the data.\n"
   ]
  },
  {
   "cell_type": "code",
   "execution_count": null,
   "id": "1ed1fe5a",
   "metadata": {},
   "outputs": [],
   "source": [
    "## Problem 3\n",
    "\n",
    "# Compare and reconcile the answers to Problems 1 and 2."
   ]
  }
 ],
 "metadata": {
  "kernelspec": {
   "display_name": "Python 3 (ipykernel)",
   "language": "python",
   "name": "python3"
  },
  "language_info": {
   "codemirror_mode": {
    "name": "ipython",
    "version": 3
   },
   "file_extension": ".py",
   "mimetype": "text/x-python",
   "name": "python",
   "nbconvert_exporter": "python",
   "pygments_lexer": "ipython3",
   "version": "3.10.12"
  }
 },
 "nbformat": 4,
 "nbformat_minor": 5
}
