{
 "cells": [
  {
   "cell_type": "markdown",
   "id": "0fb1cf13",
   "metadata": {},
   "source": [
    "# ZTF24aahgqwk in NGC 3443\n",
    "\n",
    "## Light Curve Notebook\n",
    "\n",
    "This notebook begins with the 36 stacked images produced by our [Calibration Notebook](https://brianhill.github.io/supernova-observation/analyses/ZTF24aahgqwk/ZTF24aahgqwk-calibration.pdf), and produces a light curve, consisting of 18 Sloan r' and 18 Sloan g' data points.\n"
   ]
  },
  {
   "cell_type": "code",
   "execution_count": 1,
   "id": "2672632b",
   "metadata": {},
   "outputs": [],
   "source": [
    "import os\n",
    "import numpy as np\n",
    "from scipy.optimize import least_squares\n",
    "\n",
    "# THIS COMMENT IS THE LONGEST A LINE CAN BE AND STILL RENDER COMPLETELY WHEN PRINTING IN LANDSCAPE MODE.\n",
    "\n",
    "# This notebook needs to be able to find the stacked images.\n",
    "\n",
    "home_directory = os.path.expanduser('~')\n",
    "supernova_project_directory = os.path.join(home_directory, 'Projects', 'supernova-observation')\n",
    "stacked_directory = os.path.join(supernova_project_directory, 'analyses', 'ZTF24aahgqwk', 'stacked')\n",
    "\n",
    "# The 36 images are in the stacked directory. There were 18 observation sessions with 2 filters each.\n",
    "\n",
    "# filters\n",
    "\n",
    "filters = ['r', 'g']\n",
    "filter_full_names = [\"Sloan r'\", \"Sloan g'\"]\n",
    "\n",
    "# observation dates (UTC)\n",
    "\n",
    "observation_dates = [\n",
    "    '2024-03-20',\n",
    "    '2024-03-21',\n",
    "    '2024-03-23',\n",
    "    '2024-03-27',\n",
    "    '2024-04-02',\n",
    "    '2024-04-03',\n",
    "    '2024-04-04',\n",
    "    '2024-04-06',\n",
    "    '2024-04-10',\n",
    "    '2024-04-11',\n",
    "    '2024-04-13',\n",
    "    '2024-04-17',\n",
    "    '2024-04-21',\n",
    "    '2024-04-22',\n",
    "    '2024-04-23',\n",
    "    '2024-04-29',\n",
    "    '2024-04-30',\n",
    "    '2024-05-02'\n",
    "]\n"
   ]
  },
  {
   "cell_type": "markdown",
   "id": "8e3b4b4b",
   "metadata": {},
   "source": [
    "## Method\n",
    "\n",
    "See [a least squares notebook](https://brianhill.github.io/supernova-observation/analyses/ZTF24aahgqwk/related_analyses/least_squares.pdf) and [least-squares fun](https://brianhill.github.io/supernova-observation/analyses/ZTF24aahgqwk/related_analyses/LeastSquaresFun.nb.pdf) for background on the method used below."
   ]
  }
 ],
 "metadata": {
  "kernelspec": {
   "display_name": "Python 3 (ipykernel)",
   "language": "python",
   "name": "python3"
  },
  "language_info": {
   "codemirror_mode": {
    "name": "ipython",
    "version": 3
   },
   "file_extension": ".py",
   "mimetype": "text/x-python",
   "name": "python",
   "nbconvert_exporter": "python",
   "pygments_lexer": "ipython3",
   "version": "3.10.12"
  }
 },
 "nbformat": 4,
 "nbformat_minor": 5
}
